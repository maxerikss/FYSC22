{
 "cells": [
  {
   "cell_type": "markdown",
   "metadata": {},
   "source": [
    "# Lab KF5 - Radiation in the environment\n",
    "\n",
    "*This document is to help you perform the analysis. In order to save changes that you make, remember to save the document before closing it! You may include it as an appendix to your lab reports and it will not counts towards the max. 10 pages limit* \n",
    "\n",
    "**In the code cells, whenever you see the comment \" -> TODO <- \" This means that you need to edit or add something to that row in the code. Read the relevant comment which follows.**"
   ]
  },
  {
   "cell_type": "markdown",
   "metadata": {},
   "source": [
    "### Importing python packages <a name=\"import\"></a>"
   ]
  },
  {
   "cell_type": "code",
   "execution_count": null,
   "metadata": {
    "tags": []
   },
   "outputs": [],
   "source": [
    "#This code cell holds useful code neede for the analysis. Execute it like normal.\n",
    "# Packages to help importing files \n",
    "import sys, os\n",
    "sys.path.append('./lib')\n",
    "\n",
    "# Package that supports working with large arrays\n",
    "import numpy as np  \n",
    "import pandas as pd\n",
    "\n",
    "# math\n",
    "from math import sqrt\n",
    "\n",
    "# Package for plotting \n",
    "import matplotlib   # choose a backend for web applications; remove for stand-alone applications:\n",
    "matplotlib.use('Agg') # enable interactive notebook plots (alternative: use 'inline' instead of 'notebook'/'widget' for static images)\n",
    "%matplotlib notebook\n",
    "\n",
    "# The following line is the ONLY one needed in stand-alone applications!\n",
    "import matplotlib.pyplot as plt\n",
    "\n",
    "# Function that fits a curve to data \n",
    "from scipy.optimize import curve_fit\n",
    "\n",
    "# For uncertainties calculations\n",
    "from uncertainties import ufloat, ufloat_fromstr, unumpy\n",
    "from uncertainties.umath import * # sin(), etc...\n",
    "\n",
    "# Custom pakages prepared for you to analyze experimental data from labs.\n",
    "# The code is located in the 'lib' subfolder which we have to specify:\n",
    "sys.path.append('./lib')\n",
    "import MCA, fittingFunctions"
   ]
  },
  {
   "cell_type": "markdown",
   "metadata": {},
   "source": [
    "# Part 1: Ambient dose measurement\n",
    "\n",
    "Please estimate **properly** the average of your measurements. You can refer to the `Uncertainties` Jyputer notebook on how to avegare quantities which include _different_ uncertainties.\n",
    " "
   ]
  },
  {
   "cell_type": "markdown",
   "metadata": {},
   "source": [
    "## Task 1.3 Analysis of the dose measurement results "
   ]
  },
  {
   "cell_type": "code",
   "execution_count": null,
   "metadata": {},
   "outputs": [],
   "source": [
    "#-> TODO <- Compute the average of the Ambient dose measurements for each location.\n",
    "#           Do you use weighted or 'regular' average? Why?"
   ]
  },
  {
   "cell_type": "code",
   "execution_count": null,
   "metadata": {},
   "outputs": [],
   "source": [
    "#-> TODO <- Compute the annual effective dose rate [mSv/y] on each location"
   ]
  },
  {
   "cell_type": "code",
   "execution_count": null,
   "metadata": {},
   "outputs": [],
   "source": [
    "#-> TODO <- Estimate the contribution from radon (%) to the dose you measured indoors. "
   ]
  },
  {
   "cell_type": "markdown",
   "metadata": {},
   "source": [
    "# Part 2 : $\\alpha$ Spectrometry"
   ]
  },
  {
   "cell_type": "markdown",
   "metadata": {},
   "source": [
    "## Task 2.2: Calibrate Detector"
   ]
  },
  {
   "cell_type": "markdown",
   "metadata": {},
   "source": [
    "### Step 7: Import your data and plot the spectrum in Jupyter Notebook"
   ]
  },
  {
   "cell_type": "code",
   "execution_count": null,
   "metadata": {
    "tags": []
   },
   "outputs": [],
   "source": [
    "#Load your data files here:\n",
    "Th228 = MCA.load_spectrum(\"\") #-> TODO <- Insert the name of your data file. Source: Th-228"
   ]
  },
  {
   "cell_type": "code",
   "execution_count": null,
   "metadata": {
    "tags": []
   },
   "outputs": [],
   "source": [
    "#Execute this cell to make plot of Th-228 spectra\n",
    "\n",
    "#### NO NEED TO EDIT ####\n",
    "plt.figure(0, figsize=(10, 6)) #make figure for Th-228 data.\n",
    "plt.step(Th228.bin_centers, Th228.counts, where='mid', label='step') #make a stepped plot\n",
    "plt.title(\"Th-228 spectrum measured by Si surface barrier detector\") # set title of the plot\n",
    "plt.xlabel(\"Channels\")     # set label for x-axis \n",
    "plt.ylabel(\"Counts\")       # set label for y-axis \n",
    "#plt.yscale('log')          # show the y-axis in logarithmic scale\n",
    "plt.ylim(ymin=1)           # used to limit the minimum value shown on the y-axis\n",
    "#plt.savefig(\"test_spectrum.png\") #This is how you can save the figure\n",
    "#########################"
   ]
  },
  {
   "cell_type": "markdown",
   "metadata": {},
   "source": [
    "### Step 8: Fit a Gaussian function to the relevant peaks and save the centroid values (we will use these for calibration in the next task).\n",
    "\n",
    "A gaussian function looks like this:\n",
    "$$G(x) = A\\cdot e^{\\frac{(x-\\mu)^2}{2\\sigma^2}}$$\n",
    "where\n",
    "- $A$ is a constant determing the amplitude of the peak, \n",
    "- $\\mu$ is the mean value of the peak (centroid),\n",
    "- $\\sigma$ is the standard diviation of the peak (width of the peak)."
   ]
  },
  {
   "cell_type": "code",
   "execution_count": null,
   "metadata": {
    "tags": []
   },
   "outputs": [],
   "source": [
    "# Fitting the 1st peak:\n",
    "\n",
    "# In order to make a fit the software needs an intial guess of the parameters of the gaussian.\n",
    "first_peak = fittingFunctions.perform_Gaussian_fit(x=Th228.bin_centers, # your x data \n",
    "                                              y=Th228.counts,           # your y data \n",
    "                                              region_start=,   # -> TODO <- Insert channel number from where to START fitting.\n",
    "                                              region_stop=,    # -> TODO <- Insert channel number from where to STOP fitting.\n",
    "                                              mu_guess=,       # -> TODO <- Insert intial guess of peak centroid (mean value of the peak)\n",
    "                                              A_guess=,        # -> TODO <- Insert intial guess for the constant 'A' (amplitude of the peak)\n",
    "                                              sigma_guess=)    # -> TODO <- Insert intial guess for the standard diviation (width of the peak)\n",
    "\n",
    "#After executing this cell (Shift + Enter) the fitted parameters can be seen below the plot."
   ]
  },
  {
   "cell_type": "code",
   "execution_count": null,
   "metadata": {},
   "outputs": [],
   "source": [
    "# Fitting the 2nd peak:\n",
    "\n",
    "# In order to make a fit the software needs an intial guess of the parameters of the gaussian.\n",
    "second_peak = fittingFunctions.perform_Gaussian_fit(x=Th228.bin_centers, # your x data \n",
    "                                              y=Th228.counts,           # your y data \n",
    "                                              region_start=,   # -> TODO <- Insert channel number from where to START fitting.\n",
    "                                              region_stop=,    # -> TODO <- Insert channel number from where to STOP fitting.\n",
    "                                              mu_guess=,       # -> TODO <- Insert intial guess of peak centroid (mean value of the peak)\n",
    "                                              A_guess=,        # -> TODO <- Insert intial guess for the constant 'A' (amplitude of the peak)\n",
    "                                              sigma_guess=)    # -> TODO <- Insert intial guess for the standard diviation (width of the peak)\n",
    "\n",
    "#After executing this cell (Shift + Enter) the fitted parameters can be seen below the plot."
   ]
  },
  {
   "cell_type": "code",
   "execution_count": null,
   "metadata": {},
   "outputs": [],
   "source": [
    "# Fitting the 3rd peak:\n",
    "\n",
    "# In order to make a fit the software needs an intial guess of the parameters of the gaussian.\n",
    "third_peak = fittingFunctions.perform_Gaussian_fit(x=Th228.bin_centers, # your x data \n",
    "                                              y=Th228.counts,           # your y data \n",
    "                                              region_start=,   # -> TODO <- Insert channel number from where to START fitting.\n",
    "                                              region_stop=,    # -> TODO <- Insert channel number from where to STOP fitting.\n",
    "                                              mu_guess=,       # -> TODO <- Insert intial guess of peak centroid (mean value of the peak)\n",
    "                                              A_guess=,        # -> TODO <- Insert intial guess for the constant 'A' (amplitude of the peak)\n",
    "                                              sigma_guess=)    # -> TODO <- Insert intial guess for the standard diviation (width of the peak)\n",
    "\n",
    "#After executing this cell (Shift + Enter) the fitted parameters can be seen below the plot."
   ]
  },
  {
   "cell_type": "code",
   "execution_count": null,
   "metadata": {},
   "outputs": [],
   "source": [
    "# Fitting the 4th peak:\n",
    "\n",
    "# In order to make a fit the software needs an intial guess of the parameters of the gaussian.\n",
    "fourth_peak = fittingFunctions.perform_Gaussian_fit(x=Th228.bin_centers, # your x data \n",
    "                                              y=Th228.counts,           # your y data \n",
    "                                              region_start=,   # -> TODO <- Insert channel number from where to START fitting.\n",
    "                                              region_stop=,    # -> TODO <- Insert channel number from where to STOP fitting.\n",
    "                                              mu_guess=,       # -> TODO <- Insert intial guess of peak centroid (mean value of the peak)\n",
    "                                              A_guess=,        # -> TODO <- Insert intial guess for the constant 'A' (amplitude of the peak)\n",
    "                                              sigma_guess=)    # -> TODO <- Insert intial guess for the standard diviation (width of the peak)\n",
    "\n",
    "#After executing this cell (Shift + Enter) the fitted parameters can be seen below the plot."
   ]
  },
  {
   "cell_type": "code",
   "execution_count": null,
   "metadata": {},
   "outputs": [],
   "source": [
    "# Fitting the 5th peak:\n",
    "\n",
    "# In order to make a fit the software needs an intial guess of the parameters of the gaussian.\n",
    "fifth_peak = fittingFunctions.perform_Gaussian_fit(x=Th228.bin_centers, # your x data \n",
    "                                              y=Th228.counts,           # your y data \n",
    "                                              region_start=,   # -> TODO <- Insert channel number from where to START fitting.\n",
    "                                              region_stop=,    # -> TODO <- Insert channel number from where to STOP fitting.\n",
    "                                              mu_guess=,       # -> TODO <- Insert intial guess of peak centroid (mean value of the peak)\n",
    "                                              A_guess=,        # -> TODO <- Insert intial guess for the constant 'A' (amplitude of the peak)\n",
    "                                              sigma_guess=)    # -> TODO <- Insert intial guess for the standard diviation (width of the peak)\n",
    "\n",
    "#After executing this cell (Shift + Enter) the fitted parameters can be seen below the plot."
   ]
  },
  {
   "cell_type": "markdown",
   "metadata": {},
   "source": [
    "### Step 9: Create an energy calibration curve. \n",
    "\n",
    "Recall that the energy calibration is the linear dependence between the ADC channel number and the energies of the identified full-energy peaks. It is performed with a linear function.\n",
    "\n",
    "A linear function looks like:\n",
    "$$Energy = k \\cdot Channel + m$$\n",
    "where;\n",
    "- $k$ determines the slope of the curve,\n",
    "- $m$ determined the intersection of the y-axis."
   ]
  },
  {
   "cell_type": "markdown",
   "metadata": {},
   "source": [
    "Find calibration constants for Si detector: "
   ]
  },
  {
   "cell_type": "code",
   "execution_count": null,
   "metadata": {},
   "outputs": [],
   "source": [
    "#First, lets put in the relevant alpha energies\n",
    "#Information can be found from 232Th-chart.pdf\n",
    "Table_E_1 = np.asarray([])           # -> TODO <- Insert energy [MeV] of the first peak\n",
    "Table_E_2 = np.asarray([])           # -> TODO <- Insert energy [MeV] of the second peak\n",
    "Table_E_3 = np.asarray([])           # -> TODO <- Insert energy [MeV] of the third peak\n",
    "Table_E_4 = np.asarray([])           # -> TODO <- Insert energy [MeV] of the fourth peak\n",
    "Table_E_5 = np.asarray([])           # -> TODO <- Insert energy [MeV] of the fifth peak\n",
    "\n",
    "\n",
    "#### NO NEED TO EDIT ####\n",
    "Table_E = np.concatenate([Table_E_1,Table_E_2,Table_E_3,Table_E_4,Table_E_5]) #put all energies into one container 'Table_E' for ease of use\n",
    "mu_peak1 = np.asarray([first_peak.mu]) #save fitted centroid value\n",
    "mu_peak2 = np.asarray([second_peak.mu]) #save fitted centroid value\n",
    "mu_peak3 = np.asarray([third_peak.mu]) #save fitted centroid value\n",
    "mu_peak4 = np.asarray([fourth_peak.mu]) #save fitted centroid value\n",
    "mu_peak5 = np.asarray([fifth_peak.mu]) #save fitted centroid value\n",
    "\n",
    "mu_calibration = np.concatenate([mu_peak1,mu_peak2,mu_peak3,mu_peak4,mu_peak5]) #put all fitted centroid values in one container 'mu_calibration' for ease of use\n",
    "\n",
    "print(f'Alpha energies [MeV]: {Table_E}')\n",
    "print(f'Fitted centroid values [ADC]: {mu_calibration}')\n",
    "#########################\n",
    "\n",
    "# Same as before, the linear function needs intial guess for the two paramters:\n",
    "k_guess = 2 # -> intial guess for the slope of the curve\n",
    "m_guess = 1 # -> initial guess for the intersection of the y-axis\n",
    "\n",
    "#### NO NEED TO EDIT ####\n",
    "# Perform the fit\n",
    "estimates_NaI, covar_matrix = curve_fit(fittingFunctions.LineFunc, # name of the function - linear function in our case\n",
    "                                        mu_calibration,            # our x data - peak centroids \n",
    "                                        Table_E,                   # our y data - energies\n",
    "                                        p0 = [k_guess, m_guess])   # our initial guessesfor k and m parameters\n",
    "\n",
    "k = estimates_NaI[0] #save fitted parameter 'k' \n",
    "m = estimates_NaI[1] #save fitted parameter 'm'\n",
    "plt.figure() #make figure \n",
    "plt.plot(mu_calibration, fittingFunctions.LineFunc(mu_calibration, estimates_NaI[0], estimates_NaI[1]), color='purple', lw=2, label='linear fit') #plot the linear fit\n",
    "plt.scatter(mu_calibration, Table_E, s=100, c='black', marker='*', label='data points') #plot the fitted data\n",
    "plt.legend(loc='upper left') #set a legend and its position\n",
    "plt.xlabel(\"Channels\")       # set label for x-axis \n",
    "plt.ylabel(\"Energy, MeV\")    # set label for y-axis \n",
    "plt.show()\n",
    "print(f\"Estimated paramters (k, m) = ({round(k, 5)}, {round(m, 5)})\") #print the results of the fit to screen\n",
    "#########################\n",
    "\n",
    "#After executing this cell (Shift + Enter) the fitted parameters can be seen below the plot."
   ]
  },
  {
   "cell_type": "markdown",
   "metadata": {},
   "source": [
    "### Step 10: Plot the calibrated data and check that the peaks have the correct energy."
   ]
  },
  {
   "cell_type": "code",
   "execution_count": null,
   "metadata": {},
   "outputs": [],
   "source": [
    "#Execute to calibrate from ADC channels to Energy [MeV] for the two data sets.\n",
    "\n",
    "#### NO NEED TO EDIT ####\n",
    "Th228.calibrate(k,m) #calibrate the Th-228 spectra\n",
    "\n",
    "#########################"
   ]
  },
  {
   "cell_type": "code",
   "execution_count": null,
   "metadata": {},
   "outputs": [],
   "source": [
    "#Execute to make plot of calibrated Th-228 spectra\n",
    "\n",
    "#### NO NEED TO EDIT ####\n",
    "plt.figure(figsize=(10, 6))\n",
    "# with the data read in with the first routine\n",
    "plt.step(Th228.energy, Th228.counts, where='mid', label='step')\n",
    "plt.title(\"Calibrated Th-228 spectrum measured by Si detector\") # set title of the plot\n",
    "plt.xlabel(\"Energy, MeV\")     # set label for x-axis \n",
    "plt.ylabel(\"Counts\")       # set label for y-axis \n",
    "#plt.savefig(\"th228_calib_spectrum.png\") #This is how you save the figure\n",
    "#########################"
   ]
  },
  {
   "cell_type": "markdown",
   "metadata": {},
   "source": [
    "## Task 2.3: Measure the concentration of radon gas"
   ]
  },
  {
   "cell_type": "markdown",
   "metadata": {},
   "source": [
    "### Step 12: Read in the two measured spectra and calibrate"
   ]
  },
  {
   "cell_type": "code",
   "execution_count": null,
   "metadata": {},
   "outputs": [],
   "source": [
    "#Load your data files here:\n",
    "Rn222_1 = MCA.load_spectrum(\"\") #-> TODO <- Insert the name of your data file. Source: Rn-222 ( first measurement)\n",
    "Rn222_2 = MCA.load_spectrum(\"\") #-> TODO <- Insert the name of your data file. Source: Rn-222 (second measurement)"
   ]
  },
  {
   "cell_type": "code",
   "execution_count": null,
   "metadata": {},
   "outputs": [],
   "source": [
    "#Now we can use your previous calibration to calibrate this new spectra!\n",
    "\n",
    "#### NO NEED TO EDIT ####\n",
    "Rn222_1.calibrate(k, m)\n",
    "Rn222_2.calibrate(k, m)\n",
    "#########################"
   ]
  },
  {
   "cell_type": "code",
   "execution_count": null,
   "metadata": {},
   "outputs": [],
   "source": [
    "#Exectute to make a plot of your first calibrated Rn-222 spectra.\n",
    "\n",
    "#### NO NEED TO EDIT ####\n",
    "plt.figure(figsize=(10, 6)) #make figure\n",
    "# with the data read in with the first routine\n",
    "plt.step(Rn222_1.energy, Rn222_1.counts, where='mid', label='First Measurement')\n",
    "\n",
    "plt.title(\"First Rn-222 spectrum measured by Si detector\") # set title of the plot\n",
    "plt.xlabel(\"Energy, MeV\")  # set label for x-axis \n",
    "plt.ylabel(\"Counts\")       # set label for y-axis \n",
    "plt.ylim(ymin=0, ymax=) #-> TODO <- Might need to tune the axis scale [counts]\n",
    "#plt.savefig(\"test_spectrum.png\") #This is how you save the figure\n",
    "#########################"
   ]
  },
  {
   "cell_type": "markdown",
   "metadata": {},
   "source": [
    "### Step 13: Determine the counts of each peak"
   ]
  },
  {
   "cell_type": "code",
   "execution_count": null,
   "metadata": {},
   "outputs": [],
   "source": [
    "# Fitting the 1st peak:\n",
    "\n",
    "# In order to make a fit the software needs an intial guess of the parameters of the gaussian.\n",
    "Rn222_1_peak1 = fittingFunctions.perform_Gaussian_fit(x=Rn222_1.energy, # your x data \n",
    "                                              y=Rn222_1.counts,           # your y data \n",
    "                                              region_start=,   # -> TODO <- Insert energy [MeV] from where to START fitting.\n",
    "                                              region_stop=,    # -> TODO <- Insert energy [MeV] from where to STOP fitting.\n",
    "                                              mu_guess=,       # -> TODO <- Insert intial guess of peak centroid (mean value of the peak)\n",
    "                                              A_guess=,        # -> TODO <- Insert intial guess for the constant 'A' (amplitude of the peak)\n",
    "                                              sigma_guess=)    # -> TODO <- Insert intial guess for the standard diviation (width of the peak)\n",
    "\n",
    "#After executing this cell (Shift + Enter) the fitted parameters can be seen below the plot.\n",
    "\n",
    "bins = 100 # bins per unit of x axis\n",
    "print(\"\\n Area (intensity) of the first peak : {}\".format(Rn222_1_peak1.area()*bins))"
   ]
  },
  {
   "cell_type": "code",
   "execution_count": null,
   "metadata": {},
   "outputs": [],
   "source": [
    "# Fitting the 2nd peak:\n",
    "\n",
    "# In order to make a fit the software needs an intial guess of the parameters of the gaussian.\n",
    "Rn222_1_peak2 = fittingFunctions.perform_Gaussian_fit(x=Rn222_1.energy, # your x data \n",
    "                                              y=Rn222_1.counts,           # your y data \n",
    "                                              region_start=,   # -> TODO <- Insert energy [MeV] from where to START fitting.\n",
    "                                              region_stop=,    # -> TODO <- Insert energy [MeV] from where to STOP fitting.\n",
    "                                              mu_guess=,       # -> TODO <- Insert intial guess of peak centroid (mean value of the peak)\n",
    "                                              A_guess=,        # -> TODO <- Insert intial guess for the constant 'A' (amplitude of the peak)\n",
    "                                              sigma_guess=)    # -> TODO <- Insert intial guess for the standard diviation (width of the peak)\n",
    "\n",
    "#After executing this cell (Shift + Enter) the fitted parameters can be seen below the plot.\n",
    "\n",
    "bins = 100 # bins per unit of x axis\n",
    "print(\"\\n Area (intensity) of the second peak : {}\".format(Rn222_1_peak2.area()*bins))"
   ]
  },
  {
   "cell_type": "code",
   "execution_count": null,
   "metadata": {},
   "outputs": [],
   "source": [
    "#Exectute to make a plot of your second calibrated Rn-222 spectra.\n",
    "\n",
    "#### NO NEED TO EDIT ####\n",
    "plt.figure(figsize=(10, 6)) #make figure\n",
    "# with the data read in with the first routine\n",
    "plt.step(Rn222_2.energy, Rn222_2.counts, where='mid', label='step')\n",
    "\n",
    "plt.title(\"Second Rn-222 spectrum measured by Si detector\") # set title of the plot\n",
    "plt.xlabel(\"Energy, MeV\")     # set label for x-axis \n",
    "plt.ylabel(\"Counts\")       # set label for y-axis \n",
    "plt.ylim(ymin= 0, ymax=) #-> TODO <- Might need to tune the axis scale [Counts]\n",
    "#plt.savefig(\"test_spectrum.png\") #This is how you save the figure\n",
    "#########################"
   ]
  },
  {
   "cell_type": "code",
   "execution_count": null,
   "metadata": {},
   "outputs": [],
   "source": [
    "# Fitting the 2nd peak:\n",
    "\n",
    "# In order to make a fit the software needs an intial guess of the parameters of the gaussian.\n",
    "Rn222_2_peak2 = fittingFunctions.perform_Gaussian_fit(x=Rn222_2.energy, # your x data \n",
    "                                              y=Rn222_2.counts,           # your y data \n",
    "                                              region_start=,   # -> TODO <- Insert energy [MeV] from where to START fitting.\n",
    "                                              region_stop=,    # -> TODO <- Insert energy [MeV] from where to STOP fitting.\n",
    "                                              mu_guess=,       # -> TODO <- Insert intial guess of peak centroid (mean value of the peak)\n",
    "                                              A_guess=,        # -> TODO <- Insert intial guess for the constant 'A' (amplitude of the peak)\n",
    "                                              sigma_guess=)    # -> TODO <- Insert intial guess for the standard diviation (width of the peak)\n",
    "\n",
    "#After executing this cell (Shift + Enter) the fitted parameters can be seen below the plot.\n",
    "bins = 100 # bins per unit of x axis\n",
    "print(\"\\n Area (intensity) of the second peak : {}\".format(Rn222_2_peak2.area()*bins))"
   ]
  },
  {
   "cell_type": "markdown",
   "metadata": {},
   "source": [
    "### Step 14: Calculate the concentration of radium decay products in collected sample \n",
    "\n",
    "Radium-226 decays into Radon-222 which is gaseous, this in turns decays and it is these decay products that pose a health risk\n",
    "\n",
    "Historically these products were called RaA(Po-218), RaB(Pb-214), RaC(Bi-214), RaC'(Po-214). This is mentioned only to help should you want to try and follow the following calculation in detail as those suffixes were used to simplify variable naming\n",
    "\n",
    "Section 1.5.5 in Nuclear physics : principles and applications - J.S. Lilley will help in understanding the following code.\n",
    "\n",
    "In broad strokes, it is taking the known half lives and calculating how much of it is collected, how much decays in that time and then how the successive decay products feed into each other using the so-called Bateman equations.\n",
    "\n",
    "The code is complicated, and not written in the most elegant way, but has been included for completeness, all the variables to be edited are above the `#### NO NEED TO EDIT ####`"
   ]
  },
  {
   "cell_type": "code",
   "execution_count": null,
   "metadata": {},
   "outputs": [],
   "source": [
    "collection_time =    #-> TODO <- Insert your timing [s]\n",
    "transfer_time =      #-> TODO <- Insert your timing [s]\n",
    "measurement_1_time = #-> TODO <- Insert your timing [s]\n",
    "decay_time =         #-> TODO <- Insert your timing [s]\n",
    "measurement_2_time = #-> TODO <- Insert your timing [s]\n",
    "\n",
    "pump_flow =          #-> TODO <- Insert your value [l/h] \n",
    "\n",
    "N_A1 =   #-> TODO <- Insert the contents/integral of first  peak from first measurment\n",
    "N_C1 =   #-> TODO <- Insert the contents/integral of second peak from first measurment\n",
    "N_C2 =   #-> TODO <- Insert the contents/integral of first  peak from second measurement\n",
    "\n",
    "#### NO NEED TO EDIT ####\n",
    "efficiency = 0.31\n",
    "flow = pump_flow/1000/3600 # m3/s\n",
    "t1_start = transfer_time\n",
    "t1_stop = t1_start+measurement_1_time\n",
    "t2_start = t1_stop+decay_time\n",
    "t2_stop = t2_start+measurement_2_time\n",
    "#relevant half lives\n",
    "Po218_hl = 183  # [s]\n",
    "Pb214_hl = 1608 # [s]\n",
    "Bi214_hl = 1182 # [s]\n",
    "#decay constants\n",
    "lamda_A = np.log(2)/Po218_hl\n",
    "lamda_B = np.log(2)/Pb214_hl\n",
    "lamda_C = np.log(2)/Bi214_hl\n",
    "#accumulated amounts\n",
    "acc_A = 1-np.exp(-lamda_A*collection_time)\n",
    "acc_B = 1-np.exp(-lamda_B*collection_time)\n",
    "acc_C = 1-np.exp(-lamda_C*collection_time)\n",
    "#fractional decay of components during measurment one\n",
    "decay_A_1 = np.exp(-lamda_A*t1_start) - np.exp(-lamda_A*(t1_stop))\n",
    "decay_B_1 = np.exp(-lamda_B*t1_start) - np.exp(-lamda_B*(t1_stop))\n",
    "decay_C_1 = np.exp(-lamda_C*t1_start) - np.exp(-lamda_C*(t1_stop))                                                   \n",
    "#fractional decay of components during measurment two\n",
    "decay_A_2 = np.exp(-lamda_A*t2_start) - np.exp(-lamda_A*t2_stop)\n",
    "decay_B_2 = np.exp(-lamda_B*t2_start) - np.exp(-lamda_B*t2_stop)\n",
    "decay_C_2 = np.exp(-lamda_C*t2_start) - np.exp(-lamda_C*t2_stop)\n",
    "\n",
    "Term12A = 1/lamda_B * (1/lamda_B * lamda_C/(lamda_C - lamda_B) * decay_B_1 * acc_B)\n",
    "Term12B = 1/lamda_B * 1/lamda_C * lamda_B/(lamda_B - lamda_C) * decay_C_1 * acc_C \n",
    "\n",
    "Term13A_1 = 1/lamda_A * (1/lamda_A * lamda_B/(lamda_B - lamda_A) * lamda_C/(lamda_C - lamda_A) * decay_A_1 * acc_A )\n",
    "Term13B_1 = 1/lamda_A * 1/lamda_B * lamda_A/(lamda_A-lamda_B) * lamda_C/(lamda_C-lamda_B) * decay_B_1 * acc_B \n",
    "Term13C_1 = 1/lamda_A * 1/lamda_C * lamda_A/(lamda_A-lamda_C) * lamda_B/(lamda_B-lamda_C) * decay_C_1 * acc_C\n",
    "\n",
    "Term13A_2 = 1/lamda_A * (1/lamda_A * lamda_B/(lamda_B - lamda_A) * lamda_C/(lamda_C - lamda_A) * decay_A_2 * acc_A )\n",
    "Term13B_2 = 1/lamda_A * 1/lamda_B * lamda_A/(lamda_A-lamda_B) * lamda_C/(lamda_C-lamda_B) * decay_B_2 * acc_B \n",
    "Term13C_2 = 1/lamda_A * 1/lamda_C * lamda_A/(lamda_A-lamda_C) * lamda_B/(lamda_B-lamda_C) * decay_C_2 * acc_C\n",
    "\n",
    "F11 = 1/lamda_C * 1/lamda_C * decay_C_1 * acc_C\n",
    "F12 = 1/lamda_B * (1/lamda_B * lamda_C/(lamda_C - lamda_B) * decay_B_1 * acc_B + 1/lamda_C * lamda_B/(lamda_B-lamda_C) * decay_C_1 * acc_C)\n",
    "F13 = Term13A_1 + Term13B_1 + Term13C_1\n",
    "\n",
    "F21 = 1/lamda_C * 1/lamda_C * decay_C_2 * acc_C\n",
    "F22 = 1/lamda_B * (1/lamda_B * lamda_C/(lamda_C - lamda_B) * decay_B_2 * acc_B + 1/lamda_C * lamda_B/(lamda_B-lamda_C) * decay_C_2 * acc_C)\n",
    "F23 = Term13A_2 + Term13B_2 + Term13C_2\n",
    "\n",
    "k_denom = F22 * F11 - F21 * F12\n",
    "k_1 = 1/(flow * 1/lamda_A**2 * decay_A_1 * acc_A)\n",
    "k_2 = k_1 * (F21 * F13 - F23 * F11)/k_denom\n",
    "k_3 = -1/flow * F21/k_denom\n",
    "k_4 = 1/flow * F11/k_denom\n",
    "k_5 = k_1 * (F23 * F12 - F22 * F13)/k_denom\n",
    "k_6 = 1/flow * F22/k_denom\n",
    "k_7 = -1/flow * F12/k_denom\n",
    "\n",
    "C_A = k_1 * N_A1/efficiency\n",
    "C_B = (k_2 * C_A + k_3 * N_C1 + k_4 * N_C2)/efficiency\n",
    "C_C = (k_5 * N_A1 + k_6 * N_C1 + k_7 * N_C2)/efficiency\n",
    "\n",
    "print(\"Po-218 Activity =\",C_A, \"Bq/m^3\")\n",
    "print(\"Pb-214 Activity =\",C_B, \"Bq/m^3\")\n",
    "print(\"Bi-214 Activity =\",C_C, \"Bq/m^3\")"
   ]
  },
  {
   "cell_type": "markdown",
   "metadata": {},
   "source": [
    "**Question**: Why have some peaks dissapeared between the first and second measurement?\n"
   ]
  },
  {
   "cell_type": "code",
   "execution_count": null,
   "metadata": {},
   "outputs": [],
   "source": [
    "#### NO NEED TO EDIT ####\n",
    "\n",
    "#Calculate the Equilibrium Equivalent Dose\n",
    "Po218_E = 6.11\n",
    "Pb214_E = 7.83\n",
    "Bi214_E = 7.69 # actually energy of the proceeding 214Po decay as it's a beta decay followed quickly by alpha\n",
    "\n",
    "# convert half life to lifetime and calculate amount of nuclei needed for 1Bq activity\n",
    "potential_Po218 = Po218_hl/0.69 * (Po218_E+7.69) #second decay is short lived so included here\n",
    "potential_Pb214 = Pb214_hl/0.69 * Pb214_E\n",
    "potential_Bi214 = Bi214_hl/0.69 * Bi214_E\n",
    "\n",
    "total_energy = potential_Po218+potential_Pb214+potential_Bi214 # MeV/Bq\n",
    "\n",
    "#calculate activity concentrations\n",
    "frac_Po218 = potential_Po218/total_energy\n",
    "frac_Pb214 = potential_Pb214/total_energy\n",
    "frac_Bi214 = potential_Bi214/total_energy\n",
    "\n",
    "\n",
    "# weighting factors based on energy released per Bq of activity\n",
    "C1 = frac_Po218\n",
    "C2 = frac_Pb214\n",
    "C3 = frac_Bi214\n",
    "\n",
    "equilibrium_factor = 0.4 # value for indoors\n",
    "#equilibrium_factor = 0.6 # value for outdoors\n",
    "\n",
    "EEC = (C1 * C_A + C2 * C_B + C3 * C_C) / equilibrium_factor\n",
    "\n",
    "print(EEC,\"Bq/m^3\")"
   ]
  },
  {
   "cell_type": "markdown",
   "metadata": {},
   "source": [
    "The International Commission on Radiological Protection (ICRP)\n",
    "Give a dose coefficient of  6.7 x 10^-6 mSv per Bq h m-3\n",
    "\n",
    "**Question** Using this and the calculateed EEC, calculate the exposure over the course of one year should this be the air in your basement\n"
   ]
  },
  {
   "cell_type": "code",
   "execution_count": null,
   "metadata": {},
   "outputs": [],
   "source": [
    "time_indoors = 0.8 \n",
    "Dose = 6.7/1000000 * EEC * 24*365*time_indoors\n",
    "print(Dose,\"mSv\")"
   ]
  },
  {
   "cell_type": "markdown",
   "metadata": {},
   "source": [
    "**Question** : How does this compare to the average background radiation in Sweden?\n",
    "\n",
    "**Question**: What could be done to mitigate the risks involved?"
   ]
  },
  {
   "cell_type": "markdown",
   "metadata": {},
   "source": [
    "# Part 3: Range of alpha particles in air"
   ]
  },
  {
   "cell_type": "markdown",
   "metadata": {},
   "source": [
    "### Step 1: Determine the background "
   ]
  },
  {
   "cell_type": "code",
   "execution_count": null,
   "metadata": {},
   "outputs": [],
   "source": [
    "## compute the background measurements\n",
    "#bg = [counts_BG_1, counts_BG_2, counts_BG_3] #-> TODO <- add coma separated values for the BG counts measured\n",
    "bg = [20,10,25]\n",
    "\n",
    "for i in range(0, len(bg)):\n",
    "    bg[i] = ufloat(bg[i],sqrt(bg[i]))\n",
    "bg = np.array(bg)\n",
    "bg = np.average(bg)\n",
    "print(f\"Background counts {bg=:.2}\")\n"
   ]
  },
  {
   "cell_type": "markdown",
   "metadata": {},
   "source": [
    "### Step 2: Measure the count of alpha particles from the source at various distances\n",
    "\n",
    "It is known that the detector does not sit at $d_0=0\\,\\text{mm}$. For the sake of this measurements you can assume that the depth of the detector is $d_0=2.5\\,\\text{mm}$\n",
    "\n",
    "The surface of the detector is quite sensitive so <font color='red'>DO NOT TRY TO MEASURE IT YOURSELVES.</font>\n"
   ]
  },
  {
   "cell_type": "code",
   "execution_count": null,
   "metadata": {},
   "outputs": [],
   "source": [
    "## Format d[mm], t(s), factor, exp.Counts #-> TODO <- add the counts measured for each distance\n",
    "data = [\n",
    "    [ 4.5,  60, 1.00, counts1],\n",
    "    [ 6.5,  60, 1.51, counts2],\n",
    "    [ 8.5,  60, 2.03, ...],\n",
    "    [10.5,  60, 3.00, ],\n",
    "    [12.5,  60, 4.01, ],\n",
    "    [14.5,  60, 5.20, ],\n",
    "    [16.5,  60, 6.57, ],\n",
    "    [18.5,  60, 8.12, ],\n",
    "    [20.5,  60, 9.84, ],\n",
    "    [22.5,  60, 11.7, ],\n",
    "    [24.5,  60, 13.8, ],\n",
    "    [26.5, 100, 16.1, ],\n",
    "    [28.5, 100, 18.5, ],\n",
    "    [30.5, 100, 21.1, ],\n",
    "    [32.5, 100, 24.3, ]\n",
    "]\n",
    "\n",
    "## Turn into a dataframe using some identifying strings\n",
    "s_distance=r'$d$[mm]'\n",
    "s_time= r't(s)'\n",
    "s_factor=r'$F_\\Omega$'\n",
    "s_counts_raw=r'Counts raw'\n",
    "\n",
    "s_counts=r'Counts - BG'\n",
    "s_counts_corrected=r'CPS corrected'\n",
    "df = pd.DataFrame(data, columns=[s_distance, s_time, s_factor, s_counts_raw])\n",
    "\n",
    "## Get the uncertainties into the Counts and substract the background\n",
    "df[s_counts] = [ufloat(x,sqrt(x))-bg for x in df[s_counts_raw]]\n",
    "df[s_counts_corrected] = df[s_counts]*(1/df[s_time])*df[s_factor]\n",
    "display(df)\n",
    "\n",
    "## uncomment the following to have the output copy and paste ready ;-)\n",
    "#print(df.to_latex(float_format=\"{:.6}\".format, index=False, escape=False))"
   ]
  },
  {
   "cell_type": "code",
   "execution_count": null,
   "metadata": {},
   "outputs": [],
   "source": [
    "import matplotlib.pyplot as plt\n",
    "#                       y,x\n",
    "fig, axs = plt.subplots(1,1)\n",
    "\n",
    "fig.suptitle(r'$\\alpha$-particle cps as a function of the distance, $d$.')\n",
    "plt.bar(df[s_distance],\n",
    "        unumpy.nominal_values(df[s_counts_corrected]),\n",
    "        yerr=unumpy.std_devs(df[s_counts_corrected]),\n",
    "        label='Exp.',\n",
    "        alpha=0.1\n",
    "       )\n",
    "plt.xlabel(s_distance)\n",
    "plt.ylabel(s_counts_corrected)"
   ]
  },
  {
   "cell_type": "markdown",
   "metadata": {},
   "source": [
    "### Step 3: Compare the exp. value with the one from Bethe-Bloch and the parameterization"
   ]
  },
  {
   "cell_type": "code",
   "execution_count": null,
   "metadata": {},
   "outputs": [],
   "source": [
    "def Range_a_in_Air_Empirical(E):\n",
    "    \"\"\"\n",
    "    E in [MeV] or alphas\n",
    "    \n",
    "    returns range [cm]\n",
    "    \"\"\"\n",
    "    return 0.318*E**(3/2)\n",
    "\n",
    "E = 5.48 # MeV\n",
    "parameterized_range = Range_a_in_Air_Empirical(E)\n",
    "print(f'Alpha of {E:.4} MeV has a range of {parameterized_range:.4} cm according to parameterization')"
   ]
  },
  {
   "cell_type": "markdown",
   "metadata": {},
   "source": [
    "<font color='red'> #-> TODO <- </font>\n",
    "\n",
    "<font color='red'>THIS SECTION NEEDS TO BE DEVELOPED AS PART OF THE REPORT. IT DOES NOT RUN AS IS. \n",
    "    THIS IS JUST SOME SKELETON CODE</font>\n",
    "\n",
    "From Lilley\n",
    "$$\n",
    "-\\frac{dE}{dx} = \\left(\\frac{ze^2}{4\\pi\\epsilon_0}\\right)^2\\ \\frac{4\\pi Z\\rho N_A}{Am_ev^2}\\ \\left[\\ln{\\left(\\frac{2m_ev^2}{I}\\right)} - \\ln{\\left(1-\\beta^2\\right)} - \\beta^2\\right]\n",
    "$$\n",
    "\n",
    "best coded as:\n",
    "\n",
    "$$\n",
    "-\\frac{dE}{dx} = \\left(\\frac{e^2}{4\\pi\\epsilon_0}\\right)^2\\ \n",
    "\\frac{4\\pi z^2}{m_ec^2\\beta^2}\\ \n",
    "\\frac{Z\\rho N_A}{A}\\ \\left[\\ln{\\left(\\frac{2m_ec^2\\beta^2}{I}\\right)} - \\ln{\\left(1-\\beta^2\\right)} - \\beta^2\\right]\n",
    "$$"
   ]
  },
  {
   "cell_type": "code",
   "execution_count": null,
   "metadata": {},
   "outputs": [],
   "source": [
    "#-> TODO <-\n",
    "#           Using a series of small distance steps (dx), using a loop find the energy loss (dE)\n",
    "#           of an alpha particle until it is stopped => reaches an energy of 0.           \n",
    "#           You can keep track the value of dE_dx in a list for plotting later\n",
    "\n",
    "#-> TODO <-\n",
    "#           Be creative and code what you need to get the range of an alpha particle.\n",
    "#           Refer to the canvas page on Bethe-Bloch if you are unsure about your coding. \n",
    "\n",
    "def Bethe_Bloch(E, m0c2, z, A, Z, rho, I):\n",
    "    \"\"\"\n",
    "    PLEASE CODE THIS YOURSELVES\n",
    "    Projectile:\n",
    "      - E[MeV] \n",
    "      - m0c2[MeV]\n",
    "      - z\n",
    "    Target:\n",
    "      - A  [g/mol]\n",
    "      - Z  [e]\n",
    "      - rho[g/cm3]\n",
    "      - I [MeV]\n",
    "      \n",
    "    SHOULD returns dE/dx in [MeV/cm] if you use the suggested units\n",
    "    \"\"\"\n",
    "\n",
    "    N_A = 6.02214086e26 # molecules/kg-mole\n",
    "    mec2 = 0.511        # MeV\n",
    "    e2_4pi_e0 = 1.4400  # MeV*fm\n",
    "\n",
    "    # let's do some unit tweaking\n",
    "    N_A  /= 1000        # 1/g\n",
    "    mec2 /= 1           # MeV\n",
    "    e2_4pi_e0 /= 1e15   # MeV*m\n",
    "    e2_4pi_e0 *= 100    # MeV*cm\n",
    "\n",
    "    dE_dX = 0  #-> TODO <- Compute the value for dE_dX as a function of the energy. \n",
    "    #                       See the canvas page for an example using an 3.5MeV alpha particle\n",
    "    return dE_dX\n"
   ]
  },
  {
   "cell_type": "code",
   "execution_count": null,
   "metadata": {},
   "outputs": [],
   "source": [
    "#### NO NEED TO EDIT ####\n",
    "# turn those lists into array so we can do math with them =)\n",
    "energy = np.array(energy)\n",
    "brag = np.array(brag) # it was in MeV/um\n",
    "brag*=1e6             # now in eV/cm. If changed, also change the label below\n",
    "\n",
    "#plt.plot(step, energy, label='Energy [MeV]')\n",
    "plt.plot(step[:-1], brag*1e6, label=r'for an initial $E_\\alpha$={E} MeV')\n",
    "plt.legend(loc='upper left')\n",
    "plt.xlabel(r'Depth ($\\mu m$)')\n",
    "plt.ylabel(r'$\\frac{dE}{dX}$ $[eV/\\mu m]$', size=20)\n",
    "#plt.savefig(\"bethe_bloch.svg\")\n",
    "#### NO NEED TO EDIT ####"
   ]
  },
  {
   "cell_type": "markdown",
   "metadata": {},
   "source": [
    "### Step 4: Gold and fingerprint thickness"
   ]
  },
  {
   "cell_type": "code",
   "execution_count": null,
   "metadata": {},
   "outputs": [],
   "source": [
    "#-> TODO <-\n",
    "#           Be creative and code what you need to get the range of an alpha particle.\n",
    "#           Refer to the canvas page on Bethe-Bloch if you are unsure about your coding."
   ]
  }
 ],
 "metadata": {
  "kernelspec": {
   "display_name": "Python 3 (ipykernel)",
   "language": "python",
   "name": "python3"
  },
  "language_info": {
   "codemirror_mode": {
    "name": "ipython",
    "version": 3
   },
   "file_extension": ".py",
   "mimetype": "text/x-python",
   "name": "python",
   "nbconvert_exporter": "python",
   "pygments_lexer": "ipython3",
   "version": "3.11.8"
  }
 },
 "nbformat": 4,
 "nbformat_minor": 4
}
